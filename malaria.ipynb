{
  "cells": [
    {
      "cell_type": "markdown",
      "metadata": {},
      "source": [
        "# Notebook inställningar"
      ]
    },
    {
      "cell_type": "markdown",
      "metadata": {},
      "source": [
        "## Installera beroenden"
      ]
    },
    {
      "cell_type": "code",
      "execution_count": null,
      "metadata": {},
      "outputs": [],
      "source": [
        "!pip install numpy pandas tensorflow tensorflow_datasets matplotlib seaborn"
      ]
    },
    {
      "cell_type": "markdown",
      "metadata": {
        "id": "AZFTjN5jZ1n9"
      },
      "source": [
        "# Importera beroenden och förbered miljön"
      ]
    },
    {
      "cell_type": "code",
      "execution_count": null,
      "metadata": {
        "colab": {
          "base_uri": "https://localhost:8080/"
        },
        "id": "Cflk2SokK9qk",
        "outputId": "081b69d8-9226-444a-bd80-76231f0cc2d3"
      },
      "outputs": [],
      "source": [
        "import numpy as np\n",
        "import pandas as pd\n",
        "from pandas import DataFrame\n",
        "import tensorflow as tf\n",
        "import tensorflow_datasets as tfds\n",
        "#import tensorflow_data_validation as tfdv\n",
        "from tensorflow.data import Dataset\n",
        "import matplotlib.pyplot as plt\n",
        "import seaborn as sns\n",
        "\n",
        "def print_versions():\n",
        "  print('tensorflow: ', tf.__version__)\n",
        "  print('tensorflow_datasets: ', tfds.__version__)\n",
        "\n",
        "print_versions()"
      ]
    },
    {
      "cell_type": "markdown",
      "metadata": {
        "id": "VPTwULWybs-9"
      },
      "source": [
        "# Ladda och undersök träningsdata\n",
        "\n",
        "Vi laddar ner öppen data från https://www.tensorflow.org/datasets/catalog/malaria.\n",
        "\n",
        "\n",
        "## Kontroll att data stämmer med dokumentation\n",
        "En utskrift av _features_ och _splits_ förväntas ge\n",
        "```\n",
        "info.features= FeaturesDict({\n",
        "    'image': Image(shape=(None, None, 3), dtype=uint8),\n",
        "    'label': ClassLabel(shape=(), dtype=int64, num_classes=2),\n",
        "})\n",
        "info.splits= {'train': <SplitInfo num_examples=27558, num_shards=4>}\n",
        "```\n",
        "\n",
        "Detta motsvarar våra förväntning att datan består av en träningsmängd bestående av numeriskt märkta bilder.\n",
        "Denna datamängd saknar uppdelning i träning, test, validering så vi får själva ta fram en strategi för detta senare."
      ]
    },
    {
      "cell_type": "code",
      "execution_count": null,
      "metadata": {
        "colab": {
          "base_uri": "https://localhost:8080/",
          "height": 130,
          "referenced_widgets": [
            "cf9747d1565842a583b2a9af1b8f638a",
            "52ad4ba540774aa49cfb61f00ee34ab3",
            "20d9f52164c4493fa379fa4f66ac2450",
            "ea3126f1fd634ee2a8c973e35243d83c",
            "118a35b4dc784f38ba262d639e134f21",
            "d55cfc1ef68c487ea7f6539a0bbdc0b5",
            "771d7a1c6f4348af9745d27c044827fd",
            "7ca6ae9b97ee41eeb0398cca0c847c9d",
            "f60f65d7a2534bc2a951d30c3403d2c8",
            "5342256cf662479ca0fa8fa1a891127f",
            "b832354e71d54661965cc569e8df6ed8",
            "2360d4363cf04289b3b1d435e08efad3",
            "8406b6adff864ef0af7a698044ebea2f",
            "1f42e05131de443ab482f4c84b54114d",
            "a218028967ed4b0f92d471cd7f2ed046",
            "16a0ff97e1da49cba3edaf3b205f2fcd",
            "2e63fed300854bfbbe8a63bf2aea1f9f",
            "b3cfc1a12c7f418e9d38bd3f3b3020ad",
            "26807f5505d04cb99a8d441516eb116e",
            "975e4a48a97f4480b1cd4262218dfad5",
            "7c896ff7075c44da8109b5a3d1e571f8",
            "815f8a0075eb438d82fbeb463c3eed05",
            "ad2d2f16834d42abad49415cc63efb1b",
            "5d77f2a9191f48378ece7d850fcb33cd",
            "29e350e7ec5d463683d4fc52c3bb4d18",
            "193731d69c87438c8d6575b547df64f4",
            "76df12f063e84c68bfbeb19551bccc99",
            "0d0bb2b09bb74eab82a57d9ed0414d46",
            "d68ef9d08d1e4acdbcd03558bfb77e54",
            "5fad923627364940b09cf628913d2890",
            "a4456a79aa334a7ca0ce211d25eee3eb",
            "cf457ee15e044f858115e9f8a89f8118",
            "da9b9df024f24cbb9a065b0371f36e7c"
          ]
        },
        "id": "IWBLLLEqLF__",
        "outputId": "095f5475-ac09-4730-9ff7-f228ab2e0547"
      },
      "outputs": [],
      "source": [
        "ds, info = tfds.load('malaria', split='train', shuffle_files=True, with_info=True)\n",
        "print('info.features=', info.features)\n",
        "print('info.splits=', info.splits)"
      ]
    },
    {
      "cell_type": "markdown",
      "metadata": {
        "id": "h4Jd-32MfD3h"
      },
      "source": [
        "# Kontroll att data är balanserad\n",
        "Data består av bilder av blodceller märkta med antingen _parasitized_ eller _uninfected_."
      ]
    },
    {
      "cell_type": "code",
      "execution_count": null,
      "metadata": {
        "colab": {
          "base_uri": "https://localhost:8080/"
        },
        "id": "c9WTp7XWaJqv",
        "outputId": "ddb0833e-c293-4cae-f22d-550cac6901cc"
      },
      "outputs": [],
      "source": [
        "def get_human_readable_labels():\n",
        "  return info.features['label'].names\n",
        "\n",
        "get_human_readable_labels()"
      ]
    },
    {
      "cell_type": "markdown",
      "metadata": {
        "id": "pec4VcstaPLz"
      },
      "source": [
        "Ett histogram grupperat på märkning säger oss att datan är balanserad."
      ]
    },
    {
      "cell_type": "code",
      "execution_count": null,
      "metadata": {
        "colab": {
          "base_uri": "https://localhost:8080/",
          "height": 486
        },
        "id": "j5LDLIQq3m6h",
        "outputId": "f4193934-5ed1-412e-bb56-c186f4075ff2"
      },
      "outputs": [],
      "source": [
        "# Vi använder DataFrame för dess förmåga att gruppera och plotta med enkel syntax\n",
        "def get_histogram(sample_count = -1):\n",
        "  return (DataFrame({\n",
        "    'label': [d['label'].numpy() for d in ds.take(sample_count)]\n",
        "    })['label']\n",
        "    .value_counts()\n",
        "    .plot.bar(title='Fördelning av antal bilder grupperat på märkning'))\n",
        "get_histogram()"
      ]
    },
    {
      "cell_type": "markdown",
      "metadata": {
        "id": "jjj-gprNYh4B"
      },
      "source": [
        "## Analys av bildata\n",
        "Vi undersöker bilderna med avseende på olika kvalitetsmått (bredd/höjd, kondningsstorlek, färg) i syfte att upptäcka\n",
        "- skillnader mellan bilder grupperat på olika märkningar. Detta antyder ett systematiskt fel i skapandet av datamängden.\n",
        "- vilka typer av storleksvariationer som förekommer i syfte att planera korrekt normalisering av data.\n"
      ]
    },
    {
      "cell_type": "markdown",
      "metadata": {
        "id": "XhbW8gCYlu2M"
      },
      "source": [
        "### Stickprovskontroll att bilderna ser bra ut för ögat\n",
        "Utifrån en okulär granskning av några av bilderna kan vi dra slutsaten att\n",
        "- bilderna är i färg\n",
        "- bilderna varierar i färg även om enskilda bilder håller sig till en grundfärg\n",
        "- bilderna är väl beskurna\n",
        "- bilderna inte innehåller annoteringar som kan påverka maskininlärning (exv studie, patientnummer,...)\n",
        "- bilderna varierar i storlek\n",
        "- inte alla bilder är kvadratiska\n"
      ]
    },
    {
      "cell_type": "markdown",
      "metadata": {
        "id": "GDR7g8zF3mFL"
      },
      "source": []
    },
    {
      "cell_type": "code",
      "execution_count": null,
      "metadata": {
        "colab": {
          "base_uri": "https://localhost:8080/",
          "height": 1000
        },
        "id": "jE8n1JKEgroF",
        "outputId": "0cd2f486-7ee4-48c7-dfaa-81fc475d2c06"
      },
      "outputs": [],
      "source": [
        "  tfds.show_examples(ds, info)"
      ]
    },
    {
      "cell_type": "markdown",
      "metadata": {
        "id": "jIKqfrJCN_tG"
      },
      "source": [
        "### Kontroll av bildstorlek\n",
        "Om träningsdata varierar eller innehåller bias med avseende på bildstorlek kan det krävas normalisering innan träning.\n",
        "\n",
        "#### Bildkodning\n",
        "Vi tittar på hur 1:a bilden är kodad."
      ]
    },
    {
      "cell_type": "code",
      "execution_count": null,
      "metadata": {
        "colab": {
          "base_uri": "https://localhost:8080/"
        },
        "id": "L87yqZCFSd4V",
        "outputId": "e51080b7-8d84-4cd7-cd6b-2915884cfcd4"
      },
      "outputs": [],
      "source": [
        "for image in ds.take(1):\n",
        "  print(image['image'])"
      ]
    },
    {
      "cell_type": "markdown",
      "metadata": {
        "id": "xtNfLixGXIU2"
      },
      "source": [
        "Utmatningen ovan ger att bildata är kodat som multidimensionella vektorer/tensorer.\n",
        "#### Fördelning bildtyngd\n",
        "Vi tittar på fördelning över hur mycket minne enskilda bilder tar i anspråk.\n",
        "- beräkningen är grupperad på märkning i syfte att upptäcka skillnader i systematik för olika fall\n",
        "- det räcker med ett mindre urval för vidare slutsatser"
      ]
    },
    {
      "cell_type": "code",
      "execution_count": null,
      "metadata": {
        "colab": {
          "base_uri": "https://localhost:8080/",
          "height": 175
        },
        "id": "ianjFUz-mywB",
        "outputId": "a7889a28-4e6e-44d7-8973-0843216a6f1c"
      },
      "outputs": [],
      "source": [
        "def get_image_size_analysis(ds: tf.data.Dataset, sample_size: int):\n",
        "  labels = [d['label'].numpy() for d in ds.take(sample_size)]\n",
        "  image_lengths = [len(d['image'].numpy().flatten()) for d in ds.take(sample_size)]\n",
        "\n",
        "  return DataFrame({\n",
        "      'label': labels,\n",
        "      'size': image_lengths\n",
        "  }).groupby('label').describe()\n",
        "\n",
        "get_image_size_analysis(ds, 10000)"
      ]
    },
    {
      "cell_type": "markdown",
      "metadata": {
        "id": "k81nlWWEbDMt"
      },
      "source": [
        "Analysen ovan visar att bildtyngd varierar mer än önskat och att normalisering blir nödvändig.\n",
        "- standardavvikelsen uppgår till mer än 1/3 av medelvärdet\n",
        "- minsta och största skiljer sig med mer än en faktor 30 (label=0)"
      ]
    },
    {
      "cell_type": "markdown",
      "metadata": {
        "id": "_wkXI59mV7Pl"
      },
      "source": [
        "#### Fördelning bredd/höjd\n",
        "Vi utför samma analys med avseende på bredd och höjd (på ett urval av datamängden)."
      ]
    },
    {
      "cell_type": "code",
      "execution_count": null,
      "metadata": {
        "colab": {
          "base_uri": "https://localhost:8080/",
          "height": 300
        },
        "id": "rf8RqtspWE5A",
        "outputId": "49ea21da-9810-449a-c6d0-0ea7cbd9d553"
      },
      "outputs": [],
      "source": [
        "def get_image_dimension_analysis(ds: tf.data.Dataset, sample_size: int):\n",
        "  image_shapes = [d['image'].shape for d in ds.take(sample_size)]\n",
        "  return DataFrame({\n",
        "      'image width': [s[0] for s in image_shapes],\n",
        "      'image height': [s[1] for s in image_shapes],\n",
        "      'aspect ratio': [s[0]/s[1] for s in image_shapes]\n",
        "  }).describe()\n",
        "\n",
        "get_image_dimension_analysis(ds, 10000)\n"
      ]
    },
    {
      "cell_type": "markdown",
      "metadata": {
        "id": "WzEe9wvxeJwJ"
      },
      "source": [
        "Vi ser att bilderna varierar i höjd och bredd och även om bilderna i medeltal är nästan kvadratiska utgörs allför många av olika rektanglar inom intervallet (bredd, höjd) = [(79, 61) ... (232, 250)].\n",
        "\n",
        "För att inte överträna modellen måste vi hitta ett sätt att skala om alla bilder till samma dimensioner."
      ]
    },
    {
      "cell_type": "markdown",
      "metadata": {
        "id": "dXrmFqGdj6v4"
      },
      "source": [
        "### Kontroll av färgpalett"
      ]
    },
    {
      "cell_type": "code",
      "execution_count": null,
      "metadata": {
        "colab": {
          "base_uri": "https://localhost:8080/",
          "height": 356
        },
        "id": "jMT-BMgqmDw-",
        "outputId": "39393155-cd94-4161-d572-0be69fe5f477"
      },
      "outputs": [],
      "source": [
        "for d in ds.take(1):\n",
        "  tf.image.total_variation(d['image'].numpy())\n",
        "\n",
        "#tf.image.total_variation(ds.take(1), name='image')\n"
      ]
    }
  ],
  "metadata": {
    "colab": {
      "provenance": [],
      "toc_visible": true
    },
    "kernelspec": {
      "display_name": ".venv",
      "language": "python",
      "name": "python3"
    },
    "language_info": {
      "codemirror_mode": {
        "name": "ipython",
        "version": 3
      },
      "file_extension": ".py",
      "mimetype": "text/x-python",
      "name": "python",
      "nbconvert_exporter": "python",
      "pygments_lexer": "ipython3",
      "version": "3.12.6"
    },
    "widgets": {
      "application/vnd.jupyter.widget-state+json": {
        "0d0bb2b09bb74eab82a57d9ed0414d46": {
          "model_module": "@jupyter-widgets/base",
          "model_module_version": "1.2.0",
          "model_name": "LayoutModel",
          "state": {
            "_model_module": "@jupyter-widgets/base",
            "_model_module_version": "1.2.0",
            "_model_name": "LayoutModel",
            "_view_count": null,
            "_view_module": "@jupyter-widgets/base",
            "_view_module_version": "1.2.0",
            "_view_name": "LayoutView",
            "align_content": null,
            "align_items": null,
            "align_self": null,
            "border": null,
            "bottom": null,
            "display": null,
            "flex": null,
            "flex_flow": null,
            "grid_area": null,
            "grid_auto_columns": null,
            "grid_auto_flow": null,
            "grid_auto_rows": null,
            "grid_column": null,
            "grid_gap": null,
            "grid_row": null,
            "grid_template_areas": null,
            "grid_template_columns": null,
            "grid_template_rows": null,
            "height": null,
            "justify_content": null,
            "justify_items": null,
            "left": null,
            "margin": null,
            "max_height": null,
            "max_width": null,
            "min_height": null,
            "min_width": null,
            "object_fit": null,
            "object_position": null,
            "order": null,
            "overflow": null,
            "overflow_x": null,
            "overflow_y": null,
            "padding": null,
            "right": null,
            "top": null,
            "visibility": null,
            "width": null
          }
        },
        "118a35b4dc784f38ba262d639e134f21": {
          "model_module": "@jupyter-widgets/base",
          "model_module_version": "1.2.0",
          "model_name": "LayoutModel",
          "state": {
            "_model_module": "@jupyter-widgets/base",
            "_model_module_version": "1.2.0",
            "_model_name": "LayoutModel",
            "_view_count": null,
            "_view_module": "@jupyter-widgets/base",
            "_view_module_version": "1.2.0",
            "_view_name": "LayoutView",
            "align_content": null,
            "align_items": null,
            "align_self": null,
            "border": null,
            "bottom": null,
            "display": null,
            "flex": null,
            "flex_flow": null,
            "grid_area": null,
            "grid_auto_columns": null,
            "grid_auto_flow": null,
            "grid_auto_rows": null,
            "grid_column": null,
            "grid_gap": null,
            "grid_row": null,
            "grid_template_areas": null,
            "grid_template_columns": null,
            "grid_template_rows": null,
            "height": null,
            "justify_content": null,
            "justify_items": null,
            "left": null,
            "margin": null,
            "max_height": null,
            "max_width": null,
            "min_height": null,
            "min_width": null,
            "object_fit": null,
            "object_position": null,
            "order": null,
            "overflow": null,
            "overflow_x": null,
            "overflow_y": null,
            "padding": null,
            "right": null,
            "top": null,
            "visibility": null,
            "width": null
          }
        },
        "16a0ff97e1da49cba3edaf3b205f2fcd": {
          "model_module": "@jupyter-widgets/base",
          "model_module_version": "1.2.0",
          "model_name": "LayoutModel",
          "state": {
            "_model_module": "@jupyter-widgets/base",
            "_model_module_version": "1.2.0",
            "_model_name": "LayoutModel",
            "_view_count": null,
            "_view_module": "@jupyter-widgets/base",
            "_view_module_version": "1.2.0",
            "_view_name": "LayoutView",
            "align_content": null,
            "align_items": null,
            "align_self": null,
            "border": null,
            "bottom": null,
            "display": null,
            "flex": null,
            "flex_flow": null,
            "grid_area": null,
            "grid_auto_columns": null,
            "grid_auto_flow": null,
            "grid_auto_rows": null,
            "grid_column": null,
            "grid_gap": null,
            "grid_row": null,
            "grid_template_areas": null,
            "grid_template_columns": null,
            "grid_template_rows": null,
            "height": null,
            "justify_content": null,
            "justify_items": null,
            "left": null,
            "margin": null,
            "max_height": null,
            "max_width": null,
            "min_height": null,
            "min_width": null,
            "object_fit": null,
            "object_position": null,
            "order": null,
            "overflow": null,
            "overflow_x": null,
            "overflow_y": null,
            "padding": null,
            "right": null,
            "top": null,
            "visibility": null,
            "width": null
          }
        },
        "193731d69c87438c8d6575b547df64f4": {
          "model_module": "@jupyter-widgets/controls",
          "model_module_version": "1.5.0",
          "model_name": "HTMLModel",
          "state": {
            "_dom_classes": [],
            "_model_module": "@jupyter-widgets/controls",
            "_model_module_version": "1.5.0",
            "_model_name": "HTMLModel",
            "_view_count": null,
            "_view_module": "@jupyter-widgets/controls",
            "_view_module_version": "1.5.0",
            "_view_name": "HTMLView",
            "description": "",
            "description_tooltip": null,
            "layout": "IPY_MODEL_cf457ee15e044f858115e9f8a89f8118",
            "placeholder": "​",
            "style": "IPY_MODEL_da9b9df024f24cbb9a065b0371f36e7c",
            "value": " 27560/27560 [02:05&lt;00:00, 603.57 file/s]"
          }
        },
        "1f42e05131de443ab482f4c84b54114d": {
          "model_module": "@jupyter-widgets/controls",
          "model_module_version": "1.5.0",
          "model_name": "FloatProgressModel",
          "state": {
            "_dom_classes": [],
            "_model_module": "@jupyter-widgets/controls",
            "_model_module_version": "1.5.0",
            "_model_name": "FloatProgressModel",
            "_view_count": null,
            "_view_module": "@jupyter-widgets/controls",
            "_view_module_version": "1.5.0",
            "_view_name": "ProgressView",
            "bar_style": "success",
            "description": "",
            "description_tooltip": null,
            "layout": "IPY_MODEL_26807f5505d04cb99a8d441516eb116e",
            "max": 1,
            "min": 0,
            "orientation": "horizontal",
            "style": "IPY_MODEL_975e4a48a97f4480b1cd4262218dfad5",
            "value": 1
          }
        },
        "20d9f52164c4493fa379fa4f66ac2450": {
          "model_module": "@jupyter-widgets/controls",
          "model_module_version": "1.5.0",
          "model_name": "FloatProgressModel",
          "state": {
            "_dom_classes": [],
            "_model_module": "@jupyter-widgets/controls",
            "_model_module_version": "1.5.0",
            "_model_name": "FloatProgressModel",
            "_view_count": null,
            "_view_module": "@jupyter-widgets/controls",
            "_view_module_version": "1.5.0",
            "_view_name": "ProgressView",
            "bar_style": "success",
            "description": "",
            "description_tooltip": null,
            "layout": "IPY_MODEL_7ca6ae9b97ee41eeb0398cca0c847c9d",
            "max": 1,
            "min": 0,
            "orientation": "horizontal",
            "style": "IPY_MODEL_f60f65d7a2534bc2a951d30c3403d2c8",
            "value": 1
          }
        },
        "2360d4363cf04289b3b1d435e08efad3": {
          "model_module": "@jupyter-widgets/controls",
          "model_module_version": "1.5.0",
          "model_name": "HBoxModel",
          "state": {
            "_dom_classes": [],
            "_model_module": "@jupyter-widgets/controls",
            "_model_module_version": "1.5.0",
            "_model_name": "HBoxModel",
            "_view_count": null,
            "_view_module": "@jupyter-widgets/controls",
            "_view_module_version": "1.5.0",
            "_view_name": "HBoxView",
            "box_style": "",
            "children": [
              "IPY_MODEL_8406b6adff864ef0af7a698044ebea2f",
              "IPY_MODEL_1f42e05131de443ab482f4c84b54114d",
              "IPY_MODEL_a218028967ed4b0f92d471cd7f2ed046"
            ],
            "layout": "IPY_MODEL_16a0ff97e1da49cba3edaf3b205f2fcd"
          }
        },
        "26807f5505d04cb99a8d441516eb116e": {
          "model_module": "@jupyter-widgets/base",
          "model_module_version": "1.2.0",
          "model_name": "LayoutModel",
          "state": {
            "_model_module": "@jupyter-widgets/base",
            "_model_module_version": "1.2.0",
            "_model_name": "LayoutModel",
            "_view_count": null,
            "_view_module": "@jupyter-widgets/base",
            "_view_module_version": "1.2.0",
            "_view_name": "LayoutView",
            "align_content": null,
            "align_items": null,
            "align_self": null,
            "border": null,
            "bottom": null,
            "display": null,
            "flex": null,
            "flex_flow": null,
            "grid_area": null,
            "grid_auto_columns": null,
            "grid_auto_flow": null,
            "grid_auto_rows": null,
            "grid_column": null,
            "grid_gap": null,
            "grid_row": null,
            "grid_template_areas": null,
            "grid_template_columns": null,
            "grid_template_rows": null,
            "height": null,
            "justify_content": null,
            "justify_items": null,
            "left": null,
            "margin": null,
            "max_height": null,
            "max_width": null,
            "min_height": null,
            "min_width": null,
            "object_fit": null,
            "object_position": null,
            "order": null,
            "overflow": null,
            "overflow_x": null,
            "overflow_y": null,
            "padding": null,
            "right": null,
            "top": null,
            "visibility": null,
            "width": "20px"
          }
        },
        "29e350e7ec5d463683d4fc52c3bb4d18": {
          "model_module": "@jupyter-widgets/controls",
          "model_module_version": "1.5.0",
          "model_name": "FloatProgressModel",
          "state": {
            "_dom_classes": [],
            "_model_module": "@jupyter-widgets/controls",
            "_model_module_version": "1.5.0",
            "_model_name": "FloatProgressModel",
            "_view_count": null,
            "_view_module": "@jupyter-widgets/controls",
            "_view_module_version": "1.5.0",
            "_view_name": "ProgressView",
            "bar_style": "success",
            "description": "",
            "description_tooltip": null,
            "layout": "IPY_MODEL_5fad923627364940b09cf628913d2890",
            "max": 1,
            "min": 0,
            "orientation": "horizontal",
            "style": "IPY_MODEL_a4456a79aa334a7ca0ce211d25eee3eb",
            "value": 1
          }
        },
        "2e63fed300854bfbbe8a63bf2aea1f9f": {
          "model_module": "@jupyter-widgets/base",
          "model_module_version": "1.2.0",
          "model_name": "LayoutModel",
          "state": {
            "_model_module": "@jupyter-widgets/base",
            "_model_module_version": "1.2.0",
            "_model_name": "LayoutModel",
            "_view_count": null,
            "_view_module": "@jupyter-widgets/base",
            "_view_module_version": "1.2.0",
            "_view_name": "LayoutView",
            "align_content": null,
            "align_items": null,
            "align_self": null,
            "border": null,
            "bottom": null,
            "display": null,
            "flex": null,
            "flex_flow": null,
            "grid_area": null,
            "grid_auto_columns": null,
            "grid_auto_flow": null,
            "grid_auto_rows": null,
            "grid_column": null,
            "grid_gap": null,
            "grid_row": null,
            "grid_template_areas": null,
            "grid_template_columns": null,
            "grid_template_rows": null,
            "height": null,
            "justify_content": null,
            "justify_items": null,
            "left": null,
            "margin": null,
            "max_height": null,
            "max_width": null,
            "min_height": null,
            "min_width": null,
            "object_fit": null,
            "object_position": null,
            "order": null,
            "overflow": null,
            "overflow_x": null,
            "overflow_y": null,
            "padding": null,
            "right": null,
            "top": null,
            "visibility": null,
            "width": null
          }
        },
        "52ad4ba540774aa49cfb61f00ee34ab3": {
          "model_module": "@jupyter-widgets/controls",
          "model_module_version": "1.5.0",
          "model_name": "HTMLModel",
          "state": {
            "_dom_classes": [],
            "_model_module": "@jupyter-widgets/controls",
            "_model_module_version": "1.5.0",
            "_model_name": "HTMLModel",
            "_view_count": null,
            "_view_module": "@jupyter-widgets/controls",
            "_view_module_version": "1.5.0",
            "_view_name": "HTMLView",
            "description": "",
            "description_tooltip": null,
            "layout": "IPY_MODEL_d55cfc1ef68c487ea7f6539a0bbdc0b5",
            "placeholder": "​",
            "style": "IPY_MODEL_771d7a1c6f4348af9745d27c044827fd",
            "value": "Dl Completed...: 100%"
          }
        },
        "5342256cf662479ca0fa8fa1a891127f": {
          "model_module": "@jupyter-widgets/base",
          "model_module_version": "1.2.0",
          "model_name": "LayoutModel",
          "state": {
            "_model_module": "@jupyter-widgets/base",
            "_model_module_version": "1.2.0",
            "_model_name": "LayoutModel",
            "_view_count": null,
            "_view_module": "@jupyter-widgets/base",
            "_view_module_version": "1.2.0",
            "_view_name": "LayoutView",
            "align_content": null,
            "align_items": null,
            "align_self": null,
            "border": null,
            "bottom": null,
            "display": null,
            "flex": null,
            "flex_flow": null,
            "grid_area": null,
            "grid_auto_columns": null,
            "grid_auto_flow": null,
            "grid_auto_rows": null,
            "grid_column": null,
            "grid_gap": null,
            "grid_row": null,
            "grid_template_areas": null,
            "grid_template_columns": null,
            "grid_template_rows": null,
            "height": null,
            "justify_content": null,
            "justify_items": null,
            "left": null,
            "margin": null,
            "max_height": null,
            "max_width": null,
            "min_height": null,
            "min_width": null,
            "object_fit": null,
            "object_position": null,
            "order": null,
            "overflow": null,
            "overflow_x": null,
            "overflow_y": null,
            "padding": null,
            "right": null,
            "top": null,
            "visibility": null,
            "width": null
          }
        },
        "5d77f2a9191f48378ece7d850fcb33cd": {
          "model_module": "@jupyter-widgets/controls",
          "model_module_version": "1.5.0",
          "model_name": "HTMLModel",
          "state": {
            "_dom_classes": [],
            "_model_module": "@jupyter-widgets/controls",
            "_model_module_version": "1.5.0",
            "_model_name": "HTMLModel",
            "_view_count": null,
            "_view_module": "@jupyter-widgets/controls",
            "_view_module_version": "1.5.0",
            "_view_name": "HTMLView",
            "description": "",
            "description_tooltip": null,
            "layout": "IPY_MODEL_0d0bb2b09bb74eab82a57d9ed0414d46",
            "placeholder": "​",
            "style": "IPY_MODEL_d68ef9d08d1e4acdbcd03558bfb77e54",
            "value": "Extraction completed...: 100%"
          }
        },
        "5fad923627364940b09cf628913d2890": {
          "model_module": "@jupyter-widgets/base",
          "model_module_version": "1.2.0",
          "model_name": "LayoutModel",
          "state": {
            "_model_module": "@jupyter-widgets/base",
            "_model_module_version": "1.2.0",
            "_model_name": "LayoutModel",
            "_view_count": null,
            "_view_module": "@jupyter-widgets/base",
            "_view_module_version": "1.2.0",
            "_view_name": "LayoutView",
            "align_content": null,
            "align_items": null,
            "align_self": null,
            "border": null,
            "bottom": null,
            "display": null,
            "flex": null,
            "flex_flow": null,
            "grid_area": null,
            "grid_auto_columns": null,
            "grid_auto_flow": null,
            "grid_auto_rows": null,
            "grid_column": null,
            "grid_gap": null,
            "grid_row": null,
            "grid_template_areas": null,
            "grid_template_columns": null,
            "grid_template_rows": null,
            "height": null,
            "justify_content": null,
            "justify_items": null,
            "left": null,
            "margin": null,
            "max_height": null,
            "max_width": null,
            "min_height": null,
            "min_width": null,
            "object_fit": null,
            "object_position": null,
            "order": null,
            "overflow": null,
            "overflow_x": null,
            "overflow_y": null,
            "padding": null,
            "right": null,
            "top": null,
            "visibility": null,
            "width": "20px"
          }
        },
        "76df12f063e84c68bfbeb19551bccc99": {
          "model_module": "@jupyter-widgets/base",
          "model_module_version": "1.2.0",
          "model_name": "LayoutModel",
          "state": {
            "_model_module": "@jupyter-widgets/base",
            "_model_module_version": "1.2.0",
            "_model_name": "LayoutModel",
            "_view_count": null,
            "_view_module": "@jupyter-widgets/base",
            "_view_module_version": "1.2.0",
            "_view_name": "LayoutView",
            "align_content": null,
            "align_items": null,
            "align_self": null,
            "border": null,
            "bottom": null,
            "display": null,
            "flex": null,
            "flex_flow": null,
            "grid_area": null,
            "grid_auto_columns": null,
            "grid_auto_flow": null,
            "grid_auto_rows": null,
            "grid_column": null,
            "grid_gap": null,
            "grid_row": null,
            "grid_template_areas": null,
            "grid_template_columns": null,
            "grid_template_rows": null,
            "height": null,
            "justify_content": null,
            "justify_items": null,
            "left": null,
            "margin": null,
            "max_height": null,
            "max_width": null,
            "min_height": null,
            "min_width": null,
            "object_fit": null,
            "object_position": null,
            "order": null,
            "overflow": null,
            "overflow_x": null,
            "overflow_y": null,
            "padding": null,
            "right": null,
            "top": null,
            "visibility": null,
            "width": null
          }
        },
        "771d7a1c6f4348af9745d27c044827fd": {
          "model_module": "@jupyter-widgets/controls",
          "model_module_version": "1.5.0",
          "model_name": "DescriptionStyleModel",
          "state": {
            "_model_module": "@jupyter-widgets/controls",
            "_model_module_version": "1.5.0",
            "_model_name": "DescriptionStyleModel",
            "_view_count": null,
            "_view_module": "@jupyter-widgets/base",
            "_view_module_version": "1.2.0",
            "_view_name": "StyleView",
            "description_width": ""
          }
        },
        "7c896ff7075c44da8109b5a3d1e571f8": {
          "model_module": "@jupyter-widgets/base",
          "model_module_version": "1.2.0",
          "model_name": "LayoutModel",
          "state": {
            "_model_module": "@jupyter-widgets/base",
            "_model_module_version": "1.2.0",
            "_model_name": "LayoutModel",
            "_view_count": null,
            "_view_module": "@jupyter-widgets/base",
            "_view_module_version": "1.2.0",
            "_view_name": "LayoutView",
            "align_content": null,
            "align_items": null,
            "align_self": null,
            "border": null,
            "bottom": null,
            "display": null,
            "flex": null,
            "flex_flow": null,
            "grid_area": null,
            "grid_auto_columns": null,
            "grid_auto_flow": null,
            "grid_auto_rows": null,
            "grid_column": null,
            "grid_gap": null,
            "grid_row": null,
            "grid_template_areas": null,
            "grid_template_columns": null,
            "grid_template_rows": null,
            "height": null,
            "justify_content": null,
            "justify_items": null,
            "left": null,
            "margin": null,
            "max_height": null,
            "max_width": null,
            "min_height": null,
            "min_width": null,
            "object_fit": null,
            "object_position": null,
            "order": null,
            "overflow": null,
            "overflow_x": null,
            "overflow_y": null,
            "padding": null,
            "right": null,
            "top": null,
            "visibility": null,
            "width": null
          }
        },
        "7ca6ae9b97ee41eeb0398cca0c847c9d": {
          "model_module": "@jupyter-widgets/base",
          "model_module_version": "1.2.0",
          "model_name": "LayoutModel",
          "state": {
            "_model_module": "@jupyter-widgets/base",
            "_model_module_version": "1.2.0",
            "_model_name": "LayoutModel",
            "_view_count": null,
            "_view_module": "@jupyter-widgets/base",
            "_view_module_version": "1.2.0",
            "_view_name": "LayoutView",
            "align_content": null,
            "align_items": null,
            "align_self": null,
            "border": null,
            "bottom": null,
            "display": null,
            "flex": null,
            "flex_flow": null,
            "grid_area": null,
            "grid_auto_columns": null,
            "grid_auto_flow": null,
            "grid_auto_rows": null,
            "grid_column": null,
            "grid_gap": null,
            "grid_row": null,
            "grid_template_areas": null,
            "grid_template_columns": null,
            "grid_template_rows": null,
            "height": null,
            "justify_content": null,
            "justify_items": null,
            "left": null,
            "margin": null,
            "max_height": null,
            "max_width": null,
            "min_height": null,
            "min_width": null,
            "object_fit": null,
            "object_position": null,
            "order": null,
            "overflow": null,
            "overflow_x": null,
            "overflow_y": null,
            "padding": null,
            "right": null,
            "top": null,
            "visibility": null,
            "width": "20px"
          }
        },
        "815f8a0075eb438d82fbeb463c3eed05": {
          "model_module": "@jupyter-widgets/controls",
          "model_module_version": "1.5.0",
          "model_name": "DescriptionStyleModel",
          "state": {
            "_model_module": "@jupyter-widgets/controls",
            "_model_module_version": "1.5.0",
            "_model_name": "DescriptionStyleModel",
            "_view_count": null,
            "_view_module": "@jupyter-widgets/base",
            "_view_module_version": "1.2.0",
            "_view_name": "StyleView",
            "description_width": ""
          }
        },
        "8406b6adff864ef0af7a698044ebea2f": {
          "model_module": "@jupyter-widgets/controls",
          "model_module_version": "1.5.0",
          "model_name": "HTMLModel",
          "state": {
            "_dom_classes": [],
            "_model_module": "@jupyter-widgets/controls",
            "_model_module_version": "1.5.0",
            "_model_name": "HTMLModel",
            "_view_count": null,
            "_view_module": "@jupyter-widgets/controls",
            "_view_module_version": "1.5.0",
            "_view_name": "HTMLView",
            "description": "",
            "description_tooltip": null,
            "layout": "IPY_MODEL_2e63fed300854bfbbe8a63bf2aea1f9f",
            "placeholder": "​",
            "style": "IPY_MODEL_b3cfc1a12c7f418e9d38bd3f3b3020ad",
            "value": "Dl Size...: 100%"
          }
        },
        "975e4a48a97f4480b1cd4262218dfad5": {
          "model_module": "@jupyter-widgets/controls",
          "model_module_version": "1.5.0",
          "model_name": "ProgressStyleModel",
          "state": {
            "_model_module": "@jupyter-widgets/controls",
            "_model_module_version": "1.5.0",
            "_model_name": "ProgressStyleModel",
            "_view_count": null,
            "_view_module": "@jupyter-widgets/base",
            "_view_module_version": "1.2.0",
            "_view_name": "StyleView",
            "bar_color": null,
            "description_width": ""
          }
        },
        "a218028967ed4b0f92d471cd7f2ed046": {
          "model_module": "@jupyter-widgets/controls",
          "model_module_version": "1.5.0",
          "model_name": "HTMLModel",
          "state": {
            "_dom_classes": [],
            "_model_module": "@jupyter-widgets/controls",
            "_model_module_version": "1.5.0",
            "_model_name": "HTMLModel",
            "_view_count": null,
            "_view_module": "@jupyter-widgets/controls",
            "_view_module_version": "1.5.0",
            "_view_name": "HTMLView",
            "description": "",
            "description_tooltip": null,
            "layout": "IPY_MODEL_7c896ff7075c44da8109b5a3d1e571f8",
            "placeholder": "​",
            "style": "IPY_MODEL_815f8a0075eb438d82fbeb463c3eed05",
            "value": " 337/337 [02:05&lt;00:00, 47.62 MiB/s]"
          }
        },
        "a4456a79aa334a7ca0ce211d25eee3eb": {
          "model_module": "@jupyter-widgets/controls",
          "model_module_version": "1.5.0",
          "model_name": "ProgressStyleModel",
          "state": {
            "_model_module": "@jupyter-widgets/controls",
            "_model_module_version": "1.5.0",
            "_model_name": "ProgressStyleModel",
            "_view_count": null,
            "_view_module": "@jupyter-widgets/base",
            "_view_module_version": "1.2.0",
            "_view_name": "StyleView",
            "bar_color": null,
            "description_width": ""
          }
        },
        "ad2d2f16834d42abad49415cc63efb1b": {
          "model_module": "@jupyter-widgets/controls",
          "model_module_version": "1.5.0",
          "model_name": "HBoxModel",
          "state": {
            "_dom_classes": [],
            "_model_module": "@jupyter-widgets/controls",
            "_model_module_version": "1.5.0",
            "_model_name": "HBoxModel",
            "_view_count": null,
            "_view_module": "@jupyter-widgets/controls",
            "_view_module_version": "1.5.0",
            "_view_name": "HBoxView",
            "box_style": "",
            "children": [
              "IPY_MODEL_5d77f2a9191f48378ece7d850fcb33cd",
              "IPY_MODEL_29e350e7ec5d463683d4fc52c3bb4d18",
              "IPY_MODEL_193731d69c87438c8d6575b547df64f4"
            ],
            "layout": "IPY_MODEL_76df12f063e84c68bfbeb19551bccc99"
          }
        },
        "b3cfc1a12c7f418e9d38bd3f3b3020ad": {
          "model_module": "@jupyter-widgets/controls",
          "model_module_version": "1.5.0",
          "model_name": "DescriptionStyleModel",
          "state": {
            "_model_module": "@jupyter-widgets/controls",
            "_model_module_version": "1.5.0",
            "_model_name": "DescriptionStyleModel",
            "_view_count": null,
            "_view_module": "@jupyter-widgets/base",
            "_view_module_version": "1.2.0",
            "_view_name": "StyleView",
            "description_width": ""
          }
        },
        "b832354e71d54661965cc569e8df6ed8": {
          "model_module": "@jupyter-widgets/controls",
          "model_module_version": "1.5.0",
          "model_name": "DescriptionStyleModel",
          "state": {
            "_model_module": "@jupyter-widgets/controls",
            "_model_module_version": "1.5.0",
            "_model_name": "DescriptionStyleModel",
            "_view_count": null,
            "_view_module": "@jupyter-widgets/base",
            "_view_module_version": "1.2.0",
            "_view_name": "StyleView",
            "description_width": ""
          }
        },
        "cf457ee15e044f858115e9f8a89f8118": {
          "model_module": "@jupyter-widgets/base",
          "model_module_version": "1.2.0",
          "model_name": "LayoutModel",
          "state": {
            "_model_module": "@jupyter-widgets/base",
            "_model_module_version": "1.2.0",
            "_model_name": "LayoutModel",
            "_view_count": null,
            "_view_module": "@jupyter-widgets/base",
            "_view_module_version": "1.2.0",
            "_view_name": "LayoutView",
            "align_content": null,
            "align_items": null,
            "align_self": null,
            "border": null,
            "bottom": null,
            "display": null,
            "flex": null,
            "flex_flow": null,
            "grid_area": null,
            "grid_auto_columns": null,
            "grid_auto_flow": null,
            "grid_auto_rows": null,
            "grid_column": null,
            "grid_gap": null,
            "grid_row": null,
            "grid_template_areas": null,
            "grid_template_columns": null,
            "grid_template_rows": null,
            "height": null,
            "justify_content": null,
            "justify_items": null,
            "left": null,
            "margin": null,
            "max_height": null,
            "max_width": null,
            "min_height": null,
            "min_width": null,
            "object_fit": null,
            "object_position": null,
            "order": null,
            "overflow": null,
            "overflow_x": null,
            "overflow_y": null,
            "padding": null,
            "right": null,
            "top": null,
            "visibility": null,
            "width": null
          }
        },
        "cf9747d1565842a583b2a9af1b8f638a": {
          "model_module": "@jupyter-widgets/controls",
          "model_module_version": "1.5.0",
          "model_name": "HBoxModel",
          "state": {
            "_dom_classes": [],
            "_model_module": "@jupyter-widgets/controls",
            "_model_module_version": "1.5.0",
            "_model_name": "HBoxModel",
            "_view_count": null,
            "_view_module": "@jupyter-widgets/controls",
            "_view_module_version": "1.5.0",
            "_view_name": "HBoxView",
            "box_style": "",
            "children": [
              "IPY_MODEL_52ad4ba540774aa49cfb61f00ee34ab3",
              "IPY_MODEL_20d9f52164c4493fa379fa4f66ac2450",
              "IPY_MODEL_ea3126f1fd634ee2a8c973e35243d83c"
            ],
            "layout": "IPY_MODEL_118a35b4dc784f38ba262d639e134f21"
          }
        },
        "d55cfc1ef68c487ea7f6539a0bbdc0b5": {
          "model_module": "@jupyter-widgets/base",
          "model_module_version": "1.2.0",
          "model_name": "LayoutModel",
          "state": {
            "_model_module": "@jupyter-widgets/base",
            "_model_module_version": "1.2.0",
            "_model_name": "LayoutModel",
            "_view_count": null,
            "_view_module": "@jupyter-widgets/base",
            "_view_module_version": "1.2.0",
            "_view_name": "LayoutView",
            "align_content": null,
            "align_items": null,
            "align_self": null,
            "border": null,
            "bottom": null,
            "display": null,
            "flex": null,
            "flex_flow": null,
            "grid_area": null,
            "grid_auto_columns": null,
            "grid_auto_flow": null,
            "grid_auto_rows": null,
            "grid_column": null,
            "grid_gap": null,
            "grid_row": null,
            "grid_template_areas": null,
            "grid_template_columns": null,
            "grid_template_rows": null,
            "height": null,
            "justify_content": null,
            "justify_items": null,
            "left": null,
            "margin": null,
            "max_height": null,
            "max_width": null,
            "min_height": null,
            "min_width": null,
            "object_fit": null,
            "object_position": null,
            "order": null,
            "overflow": null,
            "overflow_x": null,
            "overflow_y": null,
            "padding": null,
            "right": null,
            "top": null,
            "visibility": null,
            "width": null
          }
        },
        "d68ef9d08d1e4acdbcd03558bfb77e54": {
          "model_module": "@jupyter-widgets/controls",
          "model_module_version": "1.5.0",
          "model_name": "DescriptionStyleModel",
          "state": {
            "_model_module": "@jupyter-widgets/controls",
            "_model_module_version": "1.5.0",
            "_model_name": "DescriptionStyleModel",
            "_view_count": null,
            "_view_module": "@jupyter-widgets/base",
            "_view_module_version": "1.2.0",
            "_view_name": "StyleView",
            "description_width": ""
          }
        },
        "da9b9df024f24cbb9a065b0371f36e7c": {
          "model_module": "@jupyter-widgets/controls",
          "model_module_version": "1.5.0",
          "model_name": "DescriptionStyleModel",
          "state": {
            "_model_module": "@jupyter-widgets/controls",
            "_model_module_version": "1.5.0",
            "_model_name": "DescriptionStyleModel",
            "_view_count": null,
            "_view_module": "@jupyter-widgets/base",
            "_view_module_version": "1.2.0",
            "_view_name": "StyleView",
            "description_width": ""
          }
        },
        "ea3126f1fd634ee2a8c973e35243d83c": {
          "model_module": "@jupyter-widgets/controls",
          "model_module_version": "1.5.0",
          "model_name": "HTMLModel",
          "state": {
            "_dom_classes": [],
            "_model_module": "@jupyter-widgets/controls",
            "_model_module_version": "1.5.0",
            "_model_name": "HTMLModel",
            "_view_count": null,
            "_view_module": "@jupyter-widgets/controls",
            "_view_module_version": "1.5.0",
            "_view_name": "HTMLView",
            "description": "",
            "description_tooltip": null,
            "layout": "IPY_MODEL_5342256cf662479ca0fa8fa1a891127f",
            "placeholder": "​",
            "style": "IPY_MODEL_b832354e71d54661965cc569e8df6ed8",
            "value": " 1/1 [02:05&lt;00:00,  7.72s/ url]"
          }
        },
        "f60f65d7a2534bc2a951d30c3403d2c8": {
          "model_module": "@jupyter-widgets/controls",
          "model_module_version": "1.5.0",
          "model_name": "ProgressStyleModel",
          "state": {
            "_model_module": "@jupyter-widgets/controls",
            "_model_module_version": "1.5.0",
            "_model_name": "ProgressStyleModel",
            "_view_count": null,
            "_view_module": "@jupyter-widgets/base",
            "_view_module_version": "1.2.0",
            "_view_name": "StyleView",
            "bar_color": null,
            "description_width": ""
          }
        }
      }
    }
  },
  "nbformat": 4,
  "nbformat_minor": 0
}
